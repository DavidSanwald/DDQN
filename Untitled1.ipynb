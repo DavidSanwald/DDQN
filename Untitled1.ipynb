{
 "cells": [
  {
   "cell_type": "code",
   "execution_count": 1,
   "metadata": {
    "collapsed": false
   },
   "outputs": [],
   "source": [
    "import tensorflow as tf\n",
    "import qnet\n",
    "import tensorflow.python.tools"
   ]
  },
  {
   "cell_type": "code",
   "execution_count": 7,
   "metadata": {
    "collapsed": true
   },
   "outputs": [],
   "source": [
    "act = 'tanh'\n",
    "n_states = 4\n",
    "n_actions = 2\n",
    "size_hidden = 16\n",
    "momentum = 0.5\n",
    "learningrate = 0.0025"
   ]
  },
  {
   "cell_type": "code",
   "execution_count": 2,
   "metadata": {
    "collapsed": true
   },
   "outputs": [],
   "source": [
    "sess = tf.InteractiveSession()"
   ]
  },
  {
   "cell_type": "code",
   "execution_count": 4,
   "metadata": {
    "collapsed": true
   },
   "outputs": [],
   "source": [
    "tf.global_variables_initializer().run()"
   ]
  },
  {
   "cell_type": "code",
   "execution_count": 8,
   "metadata": {
    "collapsed": false
   },
   "outputs": [],
   "source": [
    "NN = qnet.Networks(act, n_states, n_actions, size_hidden, momentum,\n",
    "                 learningrate, sess)"
   ]
  },
  {
   "cell_type": "code",
   "execution_count": 9,
   "metadata": {
    "collapsed": false
   },
   "outputs": [],
   "source": [
    "saver = tf.train.Saver()"
   ]
  },
  {
   "cell_type": "code",
   "execution_count": 10,
   "metadata": {
    "collapsed": true
   },
   "outputs": [],
   "source": [
    "all_variables_old = tf.get_collection(tf.GraphKeys.GLOBAL_VARIABLES)\n"
   ]
  },
  {
   "cell_type": "code",
   "execution_count": null,
   "metadata": {
    "collapsed": false
   },
   "outputs": [],
   "source": [
    "\n",
    "saver.save(sess, './interactive', 17)"
   ]
  },
  {
   "cell_type": "code",
   "execution_count": 18,
   "metadata": {
    "collapsed": false
   },
   "outputs": [],
   "source": [
    "saver.restore(sess,latest_checkpoint)"
   ]
  },
  {
   "cell_type": "code",
   "execution_count": null,
   "metadata": {
    "collapsed": false
   },
   "outputs": [],
   "source": [
    "def print_tensors_in_checkpoint_file(file_name):\n",
    "  \"\"\"Prints tensors in a checkpoint file.\n",
    "  If no `tensor_name` is provided, prints the tensor names and shapes\n",
    "  in the checkpoint file.\n",
    "  If `tensor_name` is provided, prints the content of the tensor.\n",
    "  Args:\n",
    "    file_name: Name of the checkpoint file.\n",
    "    tensor_name: Name of the tensor in the checkpoint file to print.\n",
    "  \"\"\"\n",
    "\n",
    "    reader = tf.train.NewCheckpointReader(file_name)\n",
    "\n",
    "    var_to_shape_map = reader.get_variable_to_shape_map()\n",
    "    for key in var_to_shape_map:\n",
    "        print(\"tensor_name: \", key)\n",
    "        print(reader.get_tensor(key))"
   ]
  },
  {
   "cell_type": "code",
   "execution_count": 12,
   "metadata": {
    "collapsed": true
   },
   "outputs": [],
   "source": [
    "latest_checkpoint = tf.train.latest_checkpoint('.')"
   ]
  },
  {
   "cell_type": "code",
   "execution_count": 16,
   "metadata": {
    "collapsed": false
   },
   "outputs": [
    {
     "name": "stdout",
     "output_type": "stream",
     "text": [
      "./interactive-17\n"
     ]
    }
   ],
   "source": [
    "print(latest_checkpoint)"
   ]
  },
  {
   "cell_type": "code",
   "execution_count": null,
   "metadata": {
    "collapsed": false
   },
   "outputs": [],
   "source": [
    "print_tensors_in_checkpoint_file(latest_checkpoint)"
   ]
  },
  {
   "cell_type": "code",
   "execution_count": null,
   "metadata": {
    "collapsed": true
   },
   "outputs": [],
   "source": [
    "reader = tf.train.NewCheckpointReader(latest_checkpoint)"
   ]
  },
  {
   "cell_type": "code",
   "execution_count": null,
   "metadata": {
    "collapsed": true
   },
   "outputs": [],
   "source": [
    "var_to_shape_map = reader.get_variable_to_shape_map()"
   ]
  },
  {
   "cell_type": "code",
   "execution_count": null,
   "metadata": {
    "collapsed": false
   },
   "outputs": [],
   "source": [
    "for key in var_to_shape_map:\n",
    "    print(\"tensor_name: \", key)\n",
    "    print(reader.get_tensor(key))"
   ]
  },
  {
   "cell_type": "code",
   "execution_count": 19,
   "metadata": {
    "collapsed": false
   },
   "outputs": [
    {
     "name": "stdout",
     "output_type": "stream",
     "text": [
      "[[-0.14835429  0.17773473  0.07323009  0.5294379   0.42259818  0.01288998\n",
      "   0.32888842 -0.48119453  0.24679226 -0.46949482  0.0016194  -0.48255706\n",
      "   0.52724504  0.317231    0.07426953  0.51410663]\n",
      " [ 0.23021841 -0.39803487 -0.22304001 -0.17460024  0.26693326  0.12540972\n",
      "  -0.42316076  0.20037031  0.35342532  0.16909361 -0.00898778 -0.26591924\n",
      "  -0.46770173 -0.30116761  0.098777   -0.4825922 ]\n",
      " [-0.25941756 -0.15834305 -0.16224459 -0.24572027 -0.00330216 -0.53353441\n",
      "   0.18708396  0.49742627 -0.0944736   0.21699238  0.30743265 -0.42647755\n",
      "  -0.08175766  0.11646295 -0.44629169  0.00682908]\n",
      " [ 0.43701059 -0.38899654 -0.10136142 -0.27036834 -0.05784374 -0.23043999\n",
      "  -0.11296162  0.14734     0.47708964  0.27377379  0.21550632  0.13168114\n",
      "   0.33580273  0.4403851  -0.31472713  0.54119611]]\n",
      "[ 0.  0.  0.  0.  0.  0.  0.  0.  0.  0.  0.  0.  0.  0.  0.  0.]\n",
      "[[-0.2486524   0.35902816]\n",
      " [ 0.46904409  0.04285407]\n",
      " [-0.53732544 -0.23783731]\n",
      " [ 0.39162862 -0.19927105]\n",
      " [ 0.46757364  0.16495895]\n",
      " [ 0.29377604 -0.11003891]\n",
      " [ 0.03077781 -0.26385072]\n",
      " [ 0.14615679  0.42337382]\n",
      " [-0.10284761 -0.00314283]\n",
      " [-0.36178076  0.02077401]\n",
      " [ 0.5019933   0.55236661]\n",
      " [ 0.33348548  0.39481646]\n",
      " [-0.04926336  0.25646991]\n",
      " [-0.39642698 -0.225169  ]\n",
      " [ 0.21541053  0.5032686 ]\n",
      " [-0.00057733 -0.46424133]]\n",
      "[ 0.  0.]\n",
      "0.9\n",
      "0.999\n",
      "[[ 0.  0.  0.  0.  0.  0.  0.  0.  0.  0.  0.  0.  0.  0.  0.  0.]\n",
      " [ 0.  0.  0.  0.  0.  0.  0.  0.  0.  0.  0.  0.  0.  0.  0.  0.]\n",
      " [ 0.  0.  0.  0.  0.  0.  0.  0.  0.  0.  0.  0.  0.  0.  0.  0.]\n",
      " [ 0.  0.  0.  0.  0.  0.  0.  0.  0.  0.  0.  0.  0.  0.  0.  0.]]\n",
      "[[ 0.  0.  0.  0.  0.  0.  0.  0.  0.  0.  0.  0.  0.  0.  0.  0.]\n",
      " [ 0.  0.  0.  0.  0.  0.  0.  0.  0.  0.  0.  0.  0.  0.  0.  0.]\n",
      " [ 0.  0.  0.  0.  0.  0.  0.  0.  0.  0.  0.  0.  0.  0.  0.  0.]\n",
      " [ 0.  0.  0.  0.  0.  0.  0.  0.  0.  0.  0.  0.  0.  0.  0.  0.]]\n",
      "[ 0.  0.  0.  0.  0.  0.  0.  0.  0.  0.  0.  0.  0.  0.  0.  0.]\n",
      "[ 0.  0.  0.  0.  0.  0.  0.  0.  0.  0.  0.  0.  0.  0.  0.  0.]\n",
      "[[ 0.  0.]\n",
      " [ 0.  0.]\n",
      " [ 0.  0.]\n",
      " [ 0.  0.]\n",
      " [ 0.  0.]\n",
      " [ 0.  0.]\n",
      " [ 0.  0.]\n",
      " [ 0.  0.]\n",
      " [ 0.  0.]\n",
      " [ 0.  0.]\n",
      " [ 0.  0.]\n",
      " [ 0.  0.]\n",
      " [ 0.  0.]\n",
      " [ 0.  0.]\n",
      " [ 0.  0.]\n",
      " [ 0.  0.]]\n",
      "[[ 0.  0.]\n",
      " [ 0.  0.]\n",
      " [ 0.  0.]\n",
      " [ 0.  0.]\n",
      " [ 0.  0.]\n",
      " [ 0.  0.]\n",
      " [ 0.  0.]\n",
      " [ 0.  0.]\n",
      " [ 0.  0.]\n",
      " [ 0.  0.]\n",
      " [ 0.  0.]\n",
      " [ 0.  0.]\n",
      " [ 0.  0.]\n",
      " [ 0.  0.]\n",
      " [ 0.  0.]\n",
      " [ 0.  0.]]\n",
      "[ 0.  0.]\n",
      "[ 0.  0.]\n",
      "[[ -3.53594601e-01  -1.35255337e-01  -9.60209370e-02  -4.41879034e-03\n",
      "    2.17836857e-01  -2.62911022e-01  -4.96445596e-02  -1.35827690e-01\n",
      "    5.31274080e-01  -4.24585611e-01  -3.47558737e-01   1.08391821e-01\n",
      "   -3.27667147e-01  -2.61711597e-01   3.47656369e-01   2.74705946e-01]\n",
      " [  4.38661575e-01  -2.16077358e-01   8.25341344e-02   4.78017330e-01\n",
      "   -2.66644001e-01  -2.35787928e-01   7.84134865e-02   4.33938026e-01\n",
      "   -2.18904018e-03   2.67347097e-01  -6.11239672e-02  -1.23876750e-01\n",
      "    9.09562111e-02   4.37268913e-01   8.44337940e-02  -3.97442520e-01]\n",
      " [  4.68204737e-01   3.42474818e-01   1.93426847e-01   2.02250898e-01\n",
      "    3.86354327e-02  -3.50236148e-01   4.35636044e-01  -8.99712145e-02\n",
      "   -3.29777062e-01  -1.97522610e-01  -2.77323544e-01   5.19972563e-01\n",
      "   -8.28289986e-03  -1.00357473e-01  -2.17211515e-01   2.42022574e-01]\n",
      " [  1.81657970e-01  -5.24883628e-01  -1.88549697e-01  -2.04998314e-01\n",
      "   -6.41262531e-03  -4.42632765e-01  -4.67999190e-01  -4.05387968e-01\n",
      "   -2.52306461e-04   2.85515130e-01   2.49299645e-01  -4.32856083e-02\n",
      "   -4.98475522e-01   1.23652160e-01   4.50900376e-01  -5.38075566e-02]]\n",
      "[ 0.  0.  0.  0.  0.  0.  0.  0.  0.  0.  0.  0.  0.  0.  0.  0.]\n",
      "[[-0.56907976 -0.5695222 ]\n",
      " [-0.5190019  -0.3155219 ]\n",
      " [ 0.07617611  0.31650168]\n",
      " [-0.17452043 -0.32786465]\n",
      " [ 0.31666923  0.31476396]\n",
      " [ 0.54785264  0.31097955]\n",
      " [ 0.21941531 -0.19801775]\n",
      " [ 0.33954793 -0.25073987]\n",
      " [-0.09470335 -0.06590569]\n",
      " [-0.33281967 -0.53233755]\n",
      " [-0.42458045  0.5399487 ]\n",
      " [-0.06865412 -0.3891634 ]\n",
      " [ 0.54985762 -0.25548649]\n",
      " [-0.57301879  0.41891116]\n",
      " [ 0.46237516  0.06296349]\n",
      " [-0.52175522  0.57171643]]\n",
      "[ 0.  0.]\n"
     ]
    }
   ],
   "source": [
    "for i in all_variables_old:\n",
    "    print (i.eval())"
   ]
  },
  {
   "cell_type": "code",
   "execution_count": null,
   "metadata": {
    "collapsed": true
   },
   "outputs": [],
   "source": []
  }
 ],
 "metadata": {
  "anaconda-cloud": {},
  "kernelspec": {
   "display_name": "Python [conda env:reinforcement]",
   "language": "python",
   "name": "conda-env-reinforcement-py"
  },
  "language_info": {
   "codemirror_mode": {
    "name": "ipython",
    "version": 3
   },
   "file_extension": ".py",
   "mimetype": "text/x-python",
   "name": "python",
   "nbconvert_exporter": "python",
   "pygments_lexer": "ipython3",
   "version": "3.5.2"
  }
 },
 "nbformat": 4,
 "nbformat_minor": 2
}
